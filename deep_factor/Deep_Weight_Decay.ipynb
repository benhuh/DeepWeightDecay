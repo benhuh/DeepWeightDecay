{
 "cells": [
  {
   "cell_type": "code",
   "execution_count": 217,
   "id": "2df03682-e378-44bc-8a6c-fde5449202d8",
   "metadata": {},
   "outputs": [],
   "source": [
    "import numpy as np\n",
    "import torch\n",
    "from torch.nn.utils import clip_grad_norm_\n",
    "\n",
    "\n",
    "def simplex_projection(s):\n",
    "    \"\"\"Projection onto the unit simplex.\"\"\"\n",
    "    if np.sum(s) <=1 and np.alltrue(s >= 0):\n",
    "        return s\n",
    "    # Code taken from https://gist.github.com/daien/1272551\n",
    "    # get the array of cumulative sums of a sorted (decreasing) copy of v\n",
    "    u = np.sort(s)[::-1]\n",
    "    cssv = np.cumsum(u)\n",
    "    # get the number of > 0 components of the optimal solution\n",
    "    rho = np.nonzero(u * np.arange(1, len(u)+1) > (cssv - 1))[0][-1]\n",
    "    # compute the Lagrange multiplier associated to the simplex constraint\n",
    "    theta = (cssv[rho] - 1) / (rho + 1.0)\n",
    "    # compute the projection by thresholding v using theta\n",
    "    return np.maximum(s-theta, 0)\n",
    "\n",
    "def svd(A, full_matrices=False, print_flag=False):\n",
    "    \"\"\"Projection onto nuclear norm ball.\"\"\"\n",
    "    U, s, V = np.linalg.svd(A, full_matrices=full_matrices)\n",
    "    if print_flag:\n",
    "        print(s)\n",
    "    return U, s, V\n",
    "    \n",
    "def nuclear_projection(A, print_flag=False):\n",
    "    \"\"\"Projection onto nuclear norm ball.\"\"\"\n",
    "    U, s, V = svd(A, full_matrices=False, print_flag=print_flag)\n",
    "    s = simplex_projection(s)\n",
    "    print(s)\n",
    "    return U.dot(np.diag(s).dot(V))\n",
    "\n"
   ]
  },
  {
   "cell_type": "code",
   "execution_count": 137,
   "id": "a32e7c5d-f49b-408d-b06f-7dd5603e8736",
   "metadata": {},
   "outputs": [],
   "source": [
    "# A = np.random.randn(5,5)/5\n",
    "A = torch.randn(5,5)/3\n"
   ]
  },
  {
   "cell_type": "code",
   "execution_count": 201,
   "id": "bcccb16b-76a9-4c17-a080-43a25fce96bf",
   "metadata": {},
   "outputs": [
    {
     "name": "stdout",
     "output_type": "stream",
     "text": [
      "[0.81445134 0.18554878 0.         0.         0.        ]\n",
      "[8.1445134e-01 1.8554880e-01 4.0307957e-09 1.9482722e-09 1.4969507e-12]\n"
     ]
    }
   ],
   "source": [
    "A_ = nuclear_projection(A)\n",
    "# A_ = np.array(A_)\n",
    "_,s_A,_ = svd(A_, print_flag=True)\n",
    "A_ = torch.tensor(A_)\n",
    "s_A = torch.tensor(s_A)\n"
   ]
  },
  {
   "cell_type": "code",
   "execution_count": 222,
   "id": "6e91346c-4299-4434-99ed-4f22b2d5022c",
   "metadata": {},
   "outputs": [],
   "source": [
    "\n",
    "\n",
    "def net_Matrix(Xs):\n",
    "    M = Xs[0]\n",
    "    if len(M.shape)==2:\n",
    "        for X in Xs[1:]:\n",
    "            M = M@X\n",
    "    elif len(M.shape)==1:\n",
    "        for X in Xs[1:]:\n",
    "            M = M*X\n",
    "    else:\n",
    "        raise ValueError\n",
    "    return M\n",
    "\n",
    "def weight_loss(Xs):\n",
    "    l=0\n",
    "    for X in Xs:\n",
    "        l+= X.pow(2).sum()\n",
    "    return l\n",
    "\n",
    "\n",
    "def train(epoch, lr, wd, Xs, A):\n",
    "    optim = torch.optim.SGD(Xs, lr=lr/len(Xs), momentum=0.0)\n",
    "    for i in range(epoch):\n",
    "        optim.zero_grad()\n",
    "        X = net_Matrix(Xs)\n",
    "        L = (X - A).pow(2).sum() + wd*weight_loss(Xs)\n",
    "        L.backward()\n",
    "        clip_grad_norm_(Xs, clip_val)\n",
    "        optim.step()"
   ]
  },
  {
   "cell_type": "code",
   "execution_count": 223,
   "id": "8fc6038d-86a4-4679-bc83-a0430911f50e",
   "metadata": {},
   "outputs": [
    {
     "data": {
      "text/plain": [
       "tensor([[ 0.0999, -0.2374, -0.0653,  0.0820, -0.0269],\n",
       "        [-0.1570,  0.3934,  0.0916, -0.1214,  0.0426],\n",
       "        [-0.0135,  0.0376,  0.0059, -0.0091,  0.0037],\n",
       "        [-0.2381,  0.3693,  0.2617, -0.2682,  0.0613],\n",
       "        [-0.0817,  0.2588,  0.0184, -0.0431,  0.0230]])"
      ]
     },
     "execution_count": 223,
     "metadata": {},
     "output_type": "execute_result"
    }
   ],
   "source": [
    "A_"
   ]
  },
  {
   "cell_type": "code",
   "execution_count": 260,
   "id": "9341e8da-2dd7-4041-aa4d-814076df1859",
   "metadata": {},
   "outputs": [
    {
     "name": "stdout",
     "output_type": "stream",
     "text": [
      "tensor([7.2130e-01, 1.7555e-01, 3.6433e-05, 3.6433e-05, 3.6433e-05],\n",
      "       grad_fn=<MulBackward0>)\n",
      "tensor([8.1444e-01, 1.8554e-01, 3.6104e-05, 3.6104e-05, 3.6104e-05],\n",
      "       grad_fn=<MulBackward0>)\n"
     ]
    }
   ],
   "source": [
    "\n",
    "N=5\n",
    "depth = 2 #4 #8 \n",
    "\n",
    "# Xs = [torch.eye(N, requires_grad=True) for _ in range(depth)]\n",
    "Xs = [torch.ones(N, requires_grad=True) for _ in range(depth)]\n",
    "\n",
    "clip_val=0.1/2\n",
    "lr=4\n",
    "wd=0.01\n",
    "epoch=200\n",
    "\n",
    "train(epoch, lr, wd, Xs, s_A)\n",
    "X = net_Matrix(Xs)\n",
    "print(X)\n",
    "# _,_,_ = svd(X.detach().numpy(), print_flag=True)\n",
    "\n",
    "lr=1\n",
    "wd=0.00001\n",
    "epoch=100\n",
    "\n",
    "train(epoch, lr, wd, Xs, s_A)\n",
    "X = net_Matrix(Xs)\n",
    "print(X)\n",
    "# _,_,_ = svd(X.detach().numpy(), print_flag=True)\n"
   ]
  },
  {
   "cell_type": "code",
   "execution_count": 210,
   "id": "c1e0d5cf-a146-499b-92e5-7d4d5a8d9bf0",
   "metadata": {},
   "outputs": [
    {
     "name": "stdout",
     "output_type": "stream",
     "text": [
      "tensor([8.0266e-01, 1.4242e-01, 7.7902e-09, 7.7902e-09, 7.7902e-09],\n",
      "       grad_fn=<MulBackward0>)\n",
      "tensor([8.1444e-01, 1.8551e-01, 7.7596e-09, 7.7596e-09, 7.7596e-09],\n",
      "       grad_fn=<MulBackward0>)\n"
     ]
    }
   ],
   "source": [
    "\n",
    "N=5\n",
    "depth = 8 #2 #6\n",
    "\n",
    "# Xs = [torch.eye(N, requires_grad=True) for _ in range(depth)]\n",
    "Xs = [torch.ones(N, requires_grad=True) for _ in range(depth)]\n",
    "\n",
    "    \n",
    "lr=0.4\n",
    "wd=0.01\n",
    "epoch=2000\n",
    "\n",
    "train(epoch, lr, wd, Xs, s_A)\n",
    "X = net_Matrix(Xs)\n",
    "print(X)\n",
    "# _,_,_ = svd(X.detach().numpy(), print_flag=True)\n",
    "\n",
    "lr=0.5\n",
    "wd=0.00001\n",
    "epoch=400\n",
    "\n",
    "train(epoch, lr, wd, Xs, s_A)\n",
    "X = net_Matrix(Xs)\n",
    "print(X)\n",
    "# _,_,_ = svd(X.detach().numpy(), print_flag=True)\n"
   ]
  },
  {
   "cell_type": "code",
   "execution_count": 209,
   "id": "4a8caf03-7d8b-42e1-8bd5-82d9ded40a2b",
   "metadata": {},
   "outputs": [
    {
     "name": "stdout",
     "output_type": "stream",
     "text": [
      "[8.0265892e-01 1.4241293e-01 1.6195807e-08 5.8746785e-09 4.1077870e-09]\n",
      "[8.1443971e-01 1.8551345e-01 1.0652803e-08 6.9684631e-09 2.1435971e-09]\n"
     ]
    }
   ],
   "source": [
    "\n",
    "N=5\n",
    "depth = 8 #2 #6\n",
    "\n",
    "Xs = [torch.eye(N, requires_grad=True) for _ in range(depth)]\n",
    "\n",
    "lr=0.4\n",
    "wd=0.01\n",
    "epoch=2000\n",
    "\n",
    "train(epoch, lr, wd, Xs, A_)\n",
    "X = net_Matrix(Xs)\n",
    "# print(X)\n",
    "_,_,_ = svd(X.detach().numpy(), print_flag=True)\n",
    "\n",
    "lr=0.5\n",
    "wd=0.00001\n",
    "epoch=400\n",
    "\n",
    "train(epoch, lr, wd, Xs, A_)\n",
    "X = net_Matrix(Xs)\n",
    "# print(X)\n",
    "_,_,_ = svd(X.detach().numpy(), print_flag=True)\n"
   ]
  },
  {
   "cell_type": "code",
   "execution_count": 205,
   "id": "6f211e00-d048-444f-908f-b53e23f1a662",
   "metadata": {},
   "outputs": [
    {
     "data": {
      "text/plain": [
       "tensor([[ 0.0999, -0.2374, -0.0653,  0.0820, -0.0269],\n",
       "        [-0.1570,  0.3934,  0.0916, -0.1214,  0.0426],\n",
       "        [-0.0135,  0.0376,  0.0059, -0.0091,  0.0037],\n",
       "        [-0.2381,  0.3693,  0.2617, -0.2682,  0.0613],\n",
       "        [-0.0817,  0.2588,  0.0184, -0.0431,  0.0230]])"
      ]
     },
     "execution_count": 205,
     "metadata": {},
     "output_type": "execute_result"
    }
   ],
   "source": [
    "A_"
   ]
  },
  {
   "cell_type": "code",
   "execution_count": 206,
   "id": "e4c5a752-4971-480b-8dfe-d88dfe751470",
   "metadata": {},
   "outputs": [
    {
     "data": {
      "text/plain": [
       "tensor([[ 0.1002, -0.2364, -0.0663,  0.0829, -0.0270],\n",
       "        [-0.1575,  0.3915,  0.0937, -0.1231,  0.0428],\n",
       "        [-0.0136,  0.0371,  0.0064, -0.0095,  0.0038],\n",
       "        [-0.2373,  0.3724,  0.2583, -0.2654,  0.0610],\n",
       "        [-0.0823,  0.2563,  0.0211, -0.0453,  0.0232]], grad_fn=<MmBackward0>)"
      ]
     },
     "execution_count": 206,
     "metadata": {},
     "output_type": "execute_result"
    }
   ],
   "source": [
    "X"
   ]
  },
  {
   "cell_type": "code",
   "execution_count": null,
   "id": "c77556ea-85eb-4934-a467-8fbc77e0a7ff",
   "metadata": {},
   "outputs": [],
   "source": []
  }
 ],
 "metadata": {
  "kernelspec": {
   "display_name": "food",
   "language": "python",
   "name": "food"
  },
  "language_info": {
   "codemirror_mode": {
    "name": "ipython",
    "version": 3
   },
   "file_extension": ".py",
   "mimetype": "text/x-python",
   "name": "python",
   "nbconvert_exporter": "python",
   "pygments_lexer": "ipython3",
   "version": "3.8.10"
  }
 },
 "nbformat": 4,
 "nbformat_minor": 5
}
